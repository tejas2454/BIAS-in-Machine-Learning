{
  "nbformat": 4,
  "nbformat_minor": 0,
  "metadata": {
    "colab": {
      "name": "Final_DAI_1_2.ipynb",
      "provenance": []
    },
    "kernelspec": {
      "name": "python3",
      "display_name": "Python 3"
    }
  },
  "cells": [
    {
      "cell_type": "code",
      "metadata": {
        "id": "8duzKvR5iXz1",
        "colab_type": "code",
        "colab": {}
      },
      "source": [
        "import matplotlib.pyplot as plt\n",
        "import numpy as np"
      ],
      "execution_count": 0,
      "outputs": []
    },
    {
      "cell_type": "markdown",
      "metadata": {
        "id": "t5v4SjRCLEwa",
        "colab_type": "text"
      },
      "source": [
        "#Functions"
      ]
    },
    {
      "cell_type": "code",
      "metadata": {
        "id": "7O-03lBa9-8C",
        "colab_type": "code",
        "colab": {}
      },
      "source": [
        "def unique(list1): \n",
        "    x = np.array(list1) \n",
        "    print(np.unique(x)) \n",
        "\n",
        "def accuracy_deviation(confusion_mat):\n",
        "  mean_accuracy=(confusion_mat[0,0]+confusion_mat[1,1])/(confusion_mat[0,0]+confusion_mat[0,1]+confusion_mat[1,0]+confusion_mat[1,1])\n",
        "  return(print(np.round(mean_accuracy*100,3),'%'))\n",
        "\n",
        "\n"
      ],
      "execution_count": 0,
      "outputs": []
    },
    {
      "cell_type": "code",
      "metadata": {
        "id": "Rxfaea-I4EB4",
        "colab_type": "code",
        "colab": {}
      },
      "source": [
        "import cv2\n",
        "import os\n",
        "\n",
        "def load_images_from_folder(folder):\n",
        "    images = []\n",
        "    for filename in os.listdir(folder):\n",
        "        img = cv2.imread(os.path.join(folder,filename))\n",
        "        if img is not None:\n",
        "            img1=img[:,:,0]\n",
        "            images.append(img1)\n",
        "    return images\n",
        "\n",
        "\n",
        "def resize_img(img_array):\n",
        "  resized_images=[]\n",
        "  for i in range(len(img_array)):\n",
        "    img=np.asarray(img_array[i])[180:360,250:530]\n",
        "    k1=cv2.resize(img,(30,30))\n",
        "    k=np.asarray(k1).reshape((1,30*30))\n",
        "    resized_images.append(k)\n",
        "  return(resized_images)"
      ],
      "execution_count": 0,
      "outputs": []
    },
    {
      "cell_type": "markdown",
      "metadata": {
        "id": "EUrSshT_LIWU",
        "colab_type": "text"
      },
      "source": [
        "#Training and Testing Data"
      ]
    },
    {
      "cell_type": "code",
      "metadata": {
        "id": "sSw0Gy-FZKxy",
        "colab_type": "code",
        "colab": {}
      },
      "source": [
        "nonSpecs_train=load_images_from_folder('/content/drive/My Drive/Images/nonSpecs_train')\n",
        "\n",
        "\n",
        "nonSpecs_test=load_images_from_folder('/content/drive/My Drive/Images/nonSpecs_test')\n",
        "\n",
        "\n",
        "specs_train=load_images_from_folder('/content/drive/My Drive/Images/specs_train')\n",
        "\n",
        "\n",
        "specs_test=load_images_from_folder('/content/drive/My Drive/Images/specs_test')"
      ],
      "execution_count": 0,
      "outputs": []
    },
    {
      "cell_type": "code",
      "metadata": {
        "id": "BjnGtIf867K6",
        "colab_type": "code",
        "colab": {}
      },
      "source": [
        "j=np.asarray(resize_img(nonSpecs_train))\n",
        "nonSpecs_train_r=j.reshape((j.shape[0],j.shape[2]))\n",
        "\n",
        "k=np.asarray(resize_img(nonSpecs_test))\n",
        "nonSpecs_test_r=k.reshape((k.shape[0],k.shape[2]))\n",
        "\n",
        "l=np.asarray(resize_img(specs_train))\n",
        "specs_train_r=l.reshape((l.shape[0],l.shape[2]))\n",
        "\n",
        "m=np.array(resize_img(specs_test))\n",
        "specs_test_r=m.reshape((m.shape[0],m.shape[2]))\n",
        "\n"
      ],
      "execution_count": 0,
      "outputs": []
    },
    {
      "cell_type": "code",
      "metadata": {
        "id": "uF89dpFXxp8E",
        "colab_type": "code",
        "colab": {}
      },
      "source": [
        "y0=np.zeros((len(nonSpecs_train_r),1))\n",
        "nonSpecs_train_label=np.concatenate((nonSpecs_train_r,y0),axis=1)\n",
        "y1=np.ones((len(specs_train_r),1))\n",
        "specs_train_label=np.concatenate((specs_train_r,y1),axis=1)\n",
        "\n",
        "y01=np.zeros((len(nonSpecs_test_r),1))\n",
        "nonSpecs_test_label=np.concatenate((nonSpecs_test_r,y01),axis=1)\n",
        "y11=np.ones((len(specs_test_r),1))\n",
        "specs_test_label=np.concatenate((specs_test_r,y11),axis=1)\n",
        "\n",
        "\n",
        "train_data=np.concatenate((nonSpecs_train_label,specs_train_label),axis=0)\n",
        "np.random.shuffle(train_data)\n",
        "test_data=np.concatenate((nonSpecs_test_label,specs_test_label),axis=0)\n",
        "np.random.shuffle(test_data)\n"
      ],
      "execution_count": 0,
      "outputs": []
    },
    {
      "cell_type": "markdown",
      "metadata": {
        "id": "DdAPlMinLNEP",
        "colab_type": "text"
      },
      "source": [
        "#Model"
      ]
    },
    {
      "cell_type": "code",
      "metadata": {
        "id": "16YwxRqh64DV",
        "colab_type": "code",
        "outputId": "14f132a8-bd94-4f2e-fbee-9d817dcb3ad7",
        "colab": {
          "base_uri": "https://localhost:8080/",
          "height": 50
        }
      },
      "source": [
        "##Neural Network\n",
        "#MLPC=Multilayer perceptron Classifier\n",
        "#Training Data 1 \n",
        "from sklearn.neural_network import MLPClassifier\n",
        "from sklearn import svm,metrics\n",
        "\n",
        "clf = MLPClassifier(solver='adam', alpha=0.0001,hidden_layer_sizes=(128,128,128,64,1), activation='logistic',max_iter=10000)\n",
        "clf.fit(train_data[:,0:-1]/255.0, train_data[:,-1])\n",
        "y_pred_nn1=clf.predict(test_data[:,0:-1]/255.0)\n",
        "y_pred_nn=y_pred_nn1.reshape((len(y_pred_nn1),1))\n",
        "cm=metrics.confusion_matrix(test_data[:,-1],np.asarray(y_pred_nn))\n",
        "probs=clf.predict_proba(test_data[:,0:-1])\n",
        "print(cm)"
      ],
      "execution_count": 0,
      "outputs": [
        {
          "output_type": "stream",
          "text": [
            "[[ 36 112]\n",
            " [ 82 104]]\n"
          ],
          "name": "stdout"
        }
      ]
    },
    {
      "cell_type": "markdown",
      "metadata": {
        "id": "OBfDITin_kbn",
        "colab_type": "text"
      },
      "source": [
        "#Evaluation Metrics"
      ]
    },
    {
      "cell_type": "markdown",
      "metadata": {
        "id": "4EdFtz2E_n21",
        "colab_type": "text"
      },
      "source": [
        "##Accuracy"
      ]
    },
    {
      "cell_type": "code",
      "metadata": {
        "id": "d9gEihXa9fVu",
        "colab_type": "code",
        "outputId": "3fe18ee2-409e-4057-99a3-d2b25374ed53",
        "colab": {
          "base_uri": "https://localhost:8080/",
          "height": 34
        }
      },
      "source": [
        "accuracy_deviation(cm)"
      ],
      "execution_count": 0,
      "outputs": [
        {
          "output_type": "stream",
          "text": [
            "41.916 %\n"
          ],
          "name": "stdout"
        }
      ]
    },
    {
      "cell_type": "markdown",
      "metadata": {
        "id": "z69bU-9a_r5m",
        "colab_type": "text"
      },
      "source": [
        "##ROC"
      ]
    },
    {
      "cell_type": "code",
      "metadata": {
        "id": "L0LEldJ4Xi9v",
        "colab_type": "code",
        "colab": {}
      },
      "source": [
        "def tpr_fpr(arr,thresh):\n",
        "  x=[]\n",
        "  for k in range(len(thresh)):\n",
        "    t=thresh[k]\n",
        "    tp=0\n",
        "    fp=0\n",
        "    tn=0\n",
        "    fn=0\n",
        "    for i in range(len(arr)):  \n",
        "      if (arr[i,0]==1 and (arr[i,2]==t or arr[i,2]>t )):\n",
        "        tp+=1\n",
        "      elif (arr[i,0]==0 and (arr[i,2]==t or arr[i,2]>t)):\n",
        "        fp+=1\n",
        "      elif (arr[i,0]==0 and arr[i,2]<t):\n",
        "        tn+=1\n",
        "      else :\n",
        "        fn+=1\n",
        "    x.append(tp/(tp+fn))\n",
        "    x.append(fp/(tn+fp))\n",
        "  return(x)\n",
        "\n",
        "\n",
        "def precision_recall(arr,thresh):\n",
        "  x=[]\n",
        "  for k in range(len(thresh)):\n",
        "    t=thresh[k]\n",
        "    tp=0\n",
        "    fp=0\n",
        "    tn=0\n",
        "    fn=0\n",
        "    for i in range(len(arr)):  \n",
        "      if (arr[i,0]==1 and (arr[i,2]==t or arr[i,2]>t )):\n",
        "        tp+=1\n",
        "      elif (arr[i,0]==0 and (arr[i,2]==t or arr[i,2]>t)):\n",
        "        fp+=1\n",
        "      elif (arr[i,0]==0 and arr[i,2]<t):\n",
        "        tn+=1\n",
        "      else :\n",
        "        fn+=1\n",
        "    x.append(tp/(tp+fp))\n",
        "    x.append(tp/(tp+fn))\n",
        "  return(x)"
      ],
      "execution_count": 0,
      "outputs": []
    },
    {
      "cell_type": "code",
      "metadata": {
        "id": "MVFupwjj_2Vz",
        "colab_type": "code",
        "outputId": "5c2e1c1c-48c5-47f9-c8c2-3c593f9c39f5",
        "colab": {
          "base_uri": "https://localhost:8080/",
          "height": 295
        }
      },
      "source": [
        "from matplotlib import pyplot as plt\n",
        "roc_matrix_nn=np.concatenate((test_data[:,-1].astype(int).reshape((334,1)),y_pred_nn.reshape((334,1)),probs[:,0].reshape((334,1))),axis=1)\n",
        "one_mat_nn=[]\n",
        "seven_mat_nn=[]\n",
        "for i in range(len(roc_matrix_nn)):\n",
        "  if (roc_matrix_nn[i,0]==1):\n",
        "    one_mat_nn.append(roc_matrix_nn[i,:])\n",
        "  else:\n",
        "    seven_mat_nn.append(roc_matrix_nn[i,:])\n",
        "thresh_mat_nn=np.unique(np.concatenate((np.asarray(one_mat_nn)[:,-1],np.asarray(seven_mat_nn)[:,-1]),axis=0))\n",
        "thresh_matrix_nn=np.sort(thresh_mat_nn[::-1].T).reshape((len(thresh_mat_nn),1))[::-1]\n",
        "sequence_arr_nn=np.concatenate((np.asarray(one_mat_nn)[:,:],np.asarray(seven_mat_nn)[:,:]),axis=0)\n",
        "\n",
        "c_nn=np.asarray(tpr_fpr(sequence_arr_nn,thresh_matrix_nn))\n",
        "final_roc_mat_nn=c_nn.reshape((int(len(c_nn)/2),2))\n",
        "plt.title('ROC Curve')\n",
        "plt.ylabel('True Positive Rate')\n",
        "plt.xlabel('False Positive Rate')\n",
        "plt.plot(final_roc_mat_nn[:,0],final_roc_mat_nn[:,1],'r')   \n",
        "plt.show()"
      ],
      "execution_count": 0,
      "outputs": [
        {
          "output_type": "display_data",
          "data": {
            "image/png": "[encoded data removed]",
            "text/plain": [
              "<Figure size 432x288 with 1 Axes>"
            ]
          },
          "metadata": {
            "tags": []
          }
        }
      ]
    },
    {
      "cell_type": "markdown",
      "metadata": {
        "id": "hNE5elgKdHqC",
        "colab_type": "text"
      },
      "source": [
        "##AUC"
      ]
    },
    {
      "cell_type": "code",
      "metadata": {
        "id": "I-44hJY_exy6",
        "colab_type": "code",
        "outputId": "9728f10d-9483-4fcc-b383-3cc83ef35047",
        "colab": {
          "base_uri": "https://localhost:8080/",
          "height": 281
        }
      },
      "source": [
        "mu, sigma = 0.5, 0.1\n",
        "plt.title('AUC')\n",
        "count1,bins1,ignored1=plt.hist(final_roc_mat_nn[:,0],25,density=True,color='r',label='TPR',log=True)\n",
        "count2,bins2,ignored2=plt.hist(final_roc_mat_nn[:,1],25,density=True,color='g',label='FPR',log=True)\n",
        "plt.show()"
      ],
      "execution_count": 0,
      "outputs": [
        {
          "output_type": "display_data",
          "data": {
            "image/png": "[encoded data removed]",
            "text/plain": [
              "<Figure size 432x288 with 1 Axes>"
            ]
          },
          "metadata": {
            "tags": []
          }
        }
      ]
    },
    {
      "cell_type": "markdown",
      "metadata": {
        "id": "vjtwdi0T_rfI",
        "colab_type": "text"
      },
      "source": [
        "##Precision vs. Recall\n"
      ]
    },
    {
      "cell_type": "code",
      "metadata": {
        "id": "g7lnDxrvX4u_",
        "colab_type": "code",
        "outputId": "fe6b89a5-f42f-4ebc-9e2b-b61f494d6959",
        "colab": {
          "base_uri": "https://localhost:8080/",
          "height": 295
        }
      },
      "source": [
        "c_nn=np.asarray(precision_recall(sequence_arr_nn,thresh_matrix_nn))\n",
        "final_roc_mat_nn=c_nn.reshape((int(len(c_nn)/2),2))\n",
        "plt.title('Precision Recall Curve')\n",
        "plt.ylabel('Precision')\n",
        "plt.xlabel('Recall')\n",
        "plt.plot(final_roc_mat_nn[:,0],final_roc_mat_nn[:,1],'r')   \n",
        "plt.show()"
      ],
      "execution_count": 0,
      "outputs": [
        {
          "output_type": "display_data",
          "data": {
            "image/png": "[encoded data removed]",
            "text/plain": [
              "<Figure size 432x288 with 1 Axes>"
            ]
          },
          "metadata": {
            "tags": []
          }
        }
      ]
    },
    {
      "cell_type": "markdown",
      "metadata": {
        "id": "Tu8O39TfK1Fx",
        "colab_type": "text"
      },
      "source": [
        "#Mitigation of Bias"
      ]
    },
    {
      "cell_type": "markdown",
      "metadata": {
        "id": "nzwO6hYTK5sO",
        "colab_type": "text"
      },
      "source": [
        "##Data Method"
      ]
    },
    {
      "cell_type": "code",
      "metadata": {
        "id": "YFsG9TLoKA0v",
        "colab_type": "code",
        "colab": {}
      },
      "source": [
        "more_train=load_images_from_folder('/content/drive/My Drive/more_data')\n",
        "n=np.asarray(resize_img(more_train))\n",
        "more_train_r=n.reshape((n.shape[0],n.shape[2]))\n",
        "\n",
        "y00=np.zeros((len(more_train_r),1))\n",
        "more_train_label=np.concatenate((more_train_r,y00),axis=1)\n",
        "\n",
        "train_data_new=np.concatenate((train_data,more_train_label),axis=0)\n",
        "np.random.shuffle(train_data_new)\n"
      ],
      "execution_count": 0,
      "outputs": []
    },
    {
      "cell_type": "markdown",
      "metadata": {
        "id": "jGn3dVFLiuZ1",
        "colab_type": "text"
      },
      "source": [
        "##Confusion Matrix"
      ]
    },
    {
      "cell_type": "code",
      "metadata": {
        "id": "BFBFxweIVMFF",
        "colab_type": "code",
        "outputId": "2043ffdb-7b25-4117-8974-2a1b6b5a46ef",
        "colab": {
          "base_uri": "https://localhost:8080/",
          "height": 50
        }
      },
      "source": [
        "clf1 = MLPClassifier(solver='adam', alpha=0.0001,hidden_layer_sizes=(128,128,128,64,1), activation='logistic',max_iter=10000)\n",
        "clf1.fit(train_data_new[:,0:-1]/255.0, train_data_new[:,-1])\n",
        "y_pred_nn11=clf1.predict(test_data[:,0:-1]/255.0)\n",
        "y_pred_nn1=y_pred_nn11.reshape((len(y_pred_nn11),1))\n",
        "cm1=metrics.confusion_matrix(test_data[:,-1],np.asarray(y_pred_nn1))\n",
        "probs1=clf1.predict_proba(test_data[:,0:-1])\n",
        "print(cm1)"
      ],
      "execution_count": 0,
      "outputs": [
        {
          "output_type": "stream",
          "text": [
            "[[106  42]\n",
            " [102  84]]\n"
          ],
          "name": "stdout"
        }
      ]
    },
    {
      "cell_type": "markdown",
      "metadata": {
        "id": "sHlSbgriiww7",
        "colab_type": "text"
      },
      "source": [
        "#Accuracy"
      ]
    },
    {
      "cell_type": "code",
      "metadata": {
        "id": "vE2v4iHjVxB-",
        "colab_type": "code",
        "outputId": "b432b0a0-92b8-4953-826d-ef3fdaa16c82",
        "colab": {
          "base_uri": "https://localhost:8080/",
          "height": 34
        }
      },
      "source": [
        "accuracy_deviation(cm1)"
      ],
      "execution_count": 0,
      "outputs": [
        {
          "output_type": "stream",
          "text": [
            "56.886 %\n"
          ],
          "name": "stdout"
        }
      ]
    },
    {
      "cell_type": "markdown",
      "metadata": {
        "id": "mpbGynj7XLwn",
        "colab_type": "text"
      },
      "source": [
        "#Bias Mitigation\n",
        "\n",
        "####Pre-Processing Algorithms\n",
        "Pre-processing algorithms are used to mitigate bias prevalent in the training data. The idea is to apply one of the following techniques for preprocessing the training data set and then apply classification algorithms for learning an appropriate classifier.\n",
        "\n",
        "####Reweighing: \n",
        "Reweighing is a data preprocessing technique that recommends generating weights for the training examples in each (group, label) combination differently to ensure fairness before classification. The idea is to apply appropriate weights to different tuples in the training dataset to make the training dataset discrimination free with respect to the sensitive attributes. Instead of reweighing, one could also apply techniques (non-discrimination constraints) such as suppression (remove sensitive attributes) or massaging the dataset — modify the labels (change the labels appropriately to remove discrimination from the training data). However, the reweighing technique is more effective than the other two mentioned earlier.\n",
        "####Optimized preprocessing: \n",
        "The idea is to learn a probabilistic transformation that edits the features and labels in the data with group fairness, individual distortion, and data fidelity constraints and objectives.\n",
        "####Learning fair representations: \n",
        "The idea is to find a latent representation that encodes the data well while obfuscating information about protected attributes.\n",
        "####Disparate impact remover: \n",
        "Feature values are appropriately edited to increase group fairness while preserving rank-ordering within groups.\n",
        "##In-Processing Algorithms\n",
        "####Adversarial Debiasing: \n",
        "A classifier model is learned to maximize prediction accuracy and simultaneously reduce an adversary's ability to determine the protected attribute from the predictions. This approach leads to a fair classifier as the predictions cannot carry any group discrimination information that the adversary can exploit.\n",
        "####Prejudice remover: \n",
        "The idea is to add a discrimination-aware regularization term to the learning objective.\n",
        "\n",
        "\n",
        "##Post-Processing Algorithms\n",
        "####Equalized odds postprocessing: \n",
        "The algorithm solves a linear program to find probabilities with which to change output labels to optimize equalized odds.\n",
        "####Calibrated equalized odds postprocessing: \n",
        "The algorithm optimizes over calibrated classifier score outputs to find probabilities with which to change output labels with an equalized odds objective.\n",
        "##Reject option classification\n",
        " The idea is to give favorable outcomes to unprivileged groups and unfavorable outcomes to privileged groups in a confidence band around the decision boundary with the highest uncertainty."
      ]
    }
  ]
}