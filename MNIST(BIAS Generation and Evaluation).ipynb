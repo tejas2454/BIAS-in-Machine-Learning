{
  "nbformat": 4,
  "nbformat_minor": 0,
  "metadata": {
    "colab": {
      "name": "DAI_1_1.ipynb",
      "provenance": [],
      "machine_shape": "hm"
    },
    "kernelspec": {
      "name": "python3",
      "display_name": "Python 3"
    }
  },
  "cells": [
    {
      "cell_type": "code",
      "metadata": {
        "id": "CvT_lKKFYE0B",
        "colab_type": "code",
        "colab": {}
      },
      "source": [
        "from sklearn.datasets import fetch_openml\n",
        "import numpy as np\n",
        "import pandas as pd"
      ],
      "execution_count": 0,
      "outputs": []
    },
    {
      "cell_type": "code",
      "metadata": {
        "id": "C5DEW_4fYWWQ",
        "colab_type": "code",
        "colab": {}
      },
      "source": [
        "mnist= fetch_openml('mnist_784')\n",
        "x,y=mnist['data'],mnist['target']"
      ],
      "execution_count": 0,
      "outputs": []
    },
    {
      "cell_type": "code",
      "metadata": {
        "id": "yIYmWPNisxlA",
        "colab_type": "code",
        "colab": {}
      },
      "source": [
        "Z=(np.concatenate((x,y.reshape((len(y),1))),axis=1))"
      ],
      "execution_count": 0,
      "outputs": []
    },
    {
      "cell_type": "code",
      "metadata": {
        "id": "V5Y9jV-rszYt",
        "colab_type": "code",
        "colab": {}
      },
      "source": [
        "data=[]\n",
        "for i in range(len(Z)):\n",
        "  if Z[i,-1]=='1' or Z[i,-1]=='7':\n",
        "    data.append(Z[i,:])\n",
        "\n",
        "data=np.asarray(data).reshape((len(data),785))\n",
        "np.random.shuffle(data)"
      ],
      "execution_count": 0,
      "outputs": []
    },
    {
      "cell_type": "code",
      "metadata": {
        "id": "UTQGBo2Xs7l9",
        "colab_type": "code",
        "colab": {}
      },
      "source": [
        "sevens=[]\n",
        "ones=[]\n",
        "for i in range(len(data)):\n",
        "  if data[i,-1]=='7':\n",
        "    sevens.append(data[i,:])\n",
        "  else:\n",
        "    ones.append(data[i,:])"
      ],
      "execution_count": 0,
      "outputs": []
    },
    {
      "cell_type": "code",
      "metadata": {
        "id": "ZTTVGamss8CP",
        "colab_type": "code",
        "colab": {}
      },
      "source": [
        "sevens=np.asarray(sevens).reshape((len(sevens),785))\n",
        "ones=np.asarray(ones).reshape((len(ones),785))\n"
      ],
      "execution_count": 0,
      "outputs": []
    },
    {
      "cell_type": "code",
      "metadata": {
        "id": "ZY9r48Ohs-jR",
        "colab_type": "code",
        "colab": {}
      },
      "source": [
        "train_1=np.concatenate((ones[0:6000,:],sevens[0:500,:]),axis=0)\n",
        "train_1=train_1.astype(int)\n",
        "np.random.shuffle(train_1)\n",
        "\n",
        "train_2=np.concatenate((ones[0:6000,:],sevens[500:1000,:]),axis=0)\n",
        "train_2=train_2.astype(int)\n",
        "np.random.shuffle(train_2)\n",
        "\n",
        "train_3=np.concatenate((ones[0:6000,:],sevens[1000:1500,:]),axis=0)\n",
        "train_3=train_3.astype(int)\n",
        "np.random.shuffle(train_3)"
      ],
      "execution_count": 0,
      "outputs": []
    },
    {
      "cell_type": "code",
      "metadata": {
        "id": "mDNNiSCitDed",
        "colab_type": "code",
        "colab": {}
      },
      "source": [
        "test=np.concatenate((ones[6000:,:],sevens[6000:,:]),axis=0)\n",
        "np.random.shuffle(test)"
      ],
      "execution_count": 0,
      "outputs": []
    },
    {
      "cell_type": "code",
      "metadata": {
        "id": "kz14kKEltFoV",
        "colab_type": "code",
        "outputId": "2afa26db-62fd-47e0-ece3-442c4f39ac72",
        "colab": {
          "base_uri": "https://localhost:8080/",
          "height": 50
        }
      },
      "source": [
        "#Learning Model\n",
        "from sklearn import svm,metrics\n",
        "\n",
        "clf1 = svm.SVC(kernel='linear',probability=True) # Linear Kernel\n",
        "#Train the model using the training sets\n",
        "clf1.fit(train_1[:,0:-1]/255.0,train_1[:,-1])\n",
        "\n",
        "#Predict the response for test dataset\n",
        "y_pred1 = clf1.predict(test[:,0:-1]/255.0)\n",
        "cm_1=metrics.confusion_matrix(test[:,-1].astype(int),y_pred1)\n",
        "cm_1"
      ],
      "execution_count": 10,
      "outputs": [
        {
          "output_type": "execute_result",
          "data": {
            "text/plain": [
              "array([[1877,    0],\n",
              "       [  35, 1258]])"
            ]
          },
          "metadata": {
            "tags": []
          },
          "execution_count": 10
        }
      ]
    },
    {
      "cell_type": "code",
      "metadata": {
        "id": "iWWrrGQqtIDK",
        "colab_type": "code",
        "outputId": "5ee306fc-ecc9-4d76-ec21-20688bc6e87f",
        "colab": {
          "base_uri": "https://localhost:8080/",
          "height": 50
        }
      },
      "source": [
        "clf2 = svm.SVC(kernel='linear',probability=True) # Linear Kernel\n",
        "#Train the model using the training sets\n",
        "clf2.fit(train_2[:,0:-1]/255.0,train_2[:,-1])\n",
        "\n",
        "#Predict the response for test dataset\n",
        "y_pred2 = clf2.predict(test[:,0:-1]/255.0)\n",
        "\n",
        "cm_2=metrics.confusion_matrix(test[:,-1].astype(int),y_pred2)\n",
        "cm_2"
      ],
      "execution_count": 11,
      "outputs": [
        {
          "output_type": "execute_result",
          "data": {
            "text/plain": [
              "array([[1876,    1],\n",
              "       [  38, 1255]])"
            ]
          },
          "metadata": {
            "tags": []
          },
          "execution_count": 11
        }
      ]
    },
    {
      "cell_type": "code",
      "metadata": {
        "id": "ztre_mTXtLBN",
        "colab_type": "code",
        "outputId": "03752d06-596e-4209-eef0-193350bd33ae",
        "colab": {
          "base_uri": "https://localhost:8080/",
          "height": 50
        }
      },
      "source": [
        "clf3 = svm.SVC(kernel='linear',probability=True) # Linear Kernel\n",
        "#Train the model using the training sets\n",
        "clf3.fit(train_3[:,0:-1]/255.0,train_3[:,-1])\n",
        "\n",
        "#Predict the response for test dataset\n",
        "y_pred3 = clf3.predict(test[:,0:-1]/255.0)\n",
        "cm_3=metrics.confusion_matrix(test[:,-1].astype(int),y_pred3)\n",
        "cm_3"
      ],
      "execution_count": 12,
      "outputs": [
        {
          "output_type": "execute_result",
          "data": {
            "text/plain": [
              "array([[1877,    0],\n",
              "       [  30, 1263]])"
            ]
          },
          "metadata": {
            "tags": []
          },
          "execution_count": 12
        }
      ]
    },
    {
      "cell_type": "markdown",
      "metadata": {
        "id": "qM78U9sqOcOr",
        "colab_type": "text"
      },
      "source": [
        "#Accuracy and Deviation"
      ]
    },
    {
      "cell_type": "code",
      "metadata": {
        "id": "d25L2HxZs-95",
        "colab_type": "code",
        "colab": {}
      },
      "source": [
        ""
      ],
      "execution_count": 0,
      "outputs": []
    },
    {
      "cell_type": "code",
      "metadata": {
        "id": "BX_TQqNQtNxp",
        "colab_type": "code",
        "outputId": "8de36d86-98cb-4bed-9ba7-620986c7ebc8",
        "colab": {
          "base_uri": "https://localhost:8080/",
          "height": 134
        }
      },
      "source": [
        "#TESTING PERFORMANCE\n",
        "#MEAN ACCURACY +- STANDARD DEVIATION\n",
        "#SVM\n",
        "def accuracy_deviation(confusion_mat):\n",
        "  mean_accuracy=(confusion_mat[0,0]+confusion_mat[1,1])/(confusion_mat[0,0]+confusion_mat[0,1]+confusion_mat[1,0]+confusion_mat[1,1])\n",
        "  v=np.round(mean_accuracy*100,2)\n",
        "  return(v)\n",
        "\n",
        "conf_mat_1=accuracy_deviation(cm_1)\n",
        "conf_mat_2=accuracy_deviation(cm_2)\n",
        "conf_mat_3=accuracy_deviation(cm_3)\n",
        "mean=(conf_mat_1+conf_mat_2+conf_mat_3)/3\n",
        "\n",
        "print('====================================================================================================')\n",
        "print('\\t\\t Accuracy and Deviation for Training Data 1=',conf_mat_1,'+',conf_mat_1-mean)\n",
        "print('\\t\\t Accuracy and Deviation for Training Data  2=',conf_mat_2,'+',conf_mat_2-mean)\n",
        "print('\\t\\t Accuracy and Deviation for Training Data  3=',conf_mat_3,'+',conf_mat_3-mean)\n",
        "print('====================================================================================================')\n",
        "print('\\t\\t\\t\\t Accuracy for SVM :', np.round(mean,2))\n",
        "print('====================================================================================================')"
      ],
      "execution_count": 13,
      "outputs": [
        {
          "output_type": "stream",
          "text": [
            "====================================================================================================\n",
            "\t\t Accuracy and Deviation for Training Data 1= 98.9 + -0.006666666666674814\n",
            "\t\t Accuracy and Deviation for Training Data  2= 98.77 + -0.13666666666668448\n",
            "\t\t Accuracy and Deviation for Training Data  3= 99.05 + 0.14333333333331666\n",
            "====================================================================================================\n",
            "\t\t\t\t Accuracy for SVM : 98.91\n",
            "====================================================================================================\n"
          ],
          "name": "stdout"
        }
      ]
    },
    {
      "cell_type": "markdown",
      "metadata": {
        "id": "9PuoMuZCOaCj",
        "colab_type": "text"
      },
      "source": [
        "#SVM"
      ]
    },
    {
      "cell_type": "code",
      "metadata": {
        "id": "xe-H9EJbtHWN",
        "colab_type": "code",
        "colab": {}
      },
      "source": [
        "#prediction Probability\n",
        "pred_prob_1=clf1.predict_proba(test[:,0:-1]/255.0)[:,0]\n",
        "pred_prob_2=clf2.predict_proba(test[:,0:-1]/255.0)[:,0]\n",
        "pred_prob_3=clf3.predict_proba(test[:,0:-1]/255.0)[:,0]\n",
        "\n",
        "\n",
        "roc_matrix_1=np.concatenate((test[:,-1].astype(int).reshape((3170,1)),y_pred1.reshape((3170,1)),pred_prob_1.reshape((3170,1))),axis=1)\n",
        "roc_matrix_2=np.concatenate((test[:,-1].astype(int).reshape((3170,1)),y_pred2.reshape((3170,1)),pred_prob_2.reshape((3170,1))),axis=1)\n",
        "roc_matrix_3=np.concatenate((test[:,-1].astype(int).reshape((3170,1)),y_pred3.reshape((3170,1)),pred_prob_3.reshape((3170,1))),axis=1)\n",
        "\n",
        "\n",
        "one_mat_1=[]\n",
        "seven_mat_1=[]\n",
        "for i in range(len(roc_matrix_1)):\n",
        "  if (roc_matrix_1[i,0]==1):\n",
        "    one_mat_1.append(roc_matrix_1[i,:])\n",
        "  else:\n",
        "    seven_mat_1.append(roc_matrix_1[i,:])\n",
        "\n",
        "\n",
        "one_mat_2=[]\n",
        "seven_mat_2=[]\n",
        "for i in range(len(roc_matrix_2)):\n",
        "  if (roc_matrix_2[i,0]==1):\n",
        "    one_mat_2.append(roc_matrix_2[i,:])\n",
        "  else:\n",
        "    seven_mat_2.append(roc_matrix_2[i,:])\n",
        "\n",
        "one_mat_3=[]\n",
        "seven_mat_3=[]\n",
        "for i in range(len(roc_matrix_3)):\n",
        "  if (roc_matrix_3[i,0]==1):\n",
        "    one_mat_3.append(roc_matrix_3[i,:])\n",
        "  else:\n",
        "    seven_mat_3.append(roc_matrix_3[i,:])\n",
        "\n",
        "thresh_mat_1=np.unique(np.concatenate((np.asarray(one_mat_1)[:,-1],np.asarray(seven_mat_1)[:,-1]),axis=0))\n",
        "thresh_matrix_1=np.sort(thresh_mat_1[::-1].T).reshape((len(thresh_mat_1),1))[::-1]\n",
        "sequence_arr_1=np.concatenate((np.asarray(one_mat_1)[:,:],np.asarray(seven_mat_1)[:,:]),axis=0)\n",
        "\n",
        "\n",
        "thresh_mat_2=np.unique(np.concatenate((np.asarray(one_mat_2)[:,-1],np.asarray(seven_mat_2)[:,-1]),axis=0))\n",
        "thresh_matrix_2=np.sort(thresh_mat_2[::-1].T).reshape((len(thresh_mat_2),1))[::-1]\n",
        "sequence_arr_2=np.concatenate((np.asarray(one_mat_2)[:,:],np.asarray(seven_mat_2)[:,:]),axis=0)\n",
        "\n",
        "\n",
        "thresh_mat_3=np.unique(np.concatenate((np.asarray(one_mat_3)[:,-1],np.asarray(seven_mat_3)[:,-1]),axis=0))\n",
        "thresh_matrix_3=np.sort(thresh_mat_3[::-1].T).reshape((len(thresh_mat_3),1))[::-1]\n",
        "sequence_arr_3=np.concatenate((np.asarray(one_mat_3)[:,:],np.asarray(seven_mat_3)[:,:]),axis=0)\n"
      ],
      "execution_count": 0,
      "outputs": []
    },
    {
      "cell_type": "code",
      "metadata": {
        "id": "qxlNxNpBtA3_",
        "colab_type": "code",
        "colab": {}
      },
      "source": [
        "def tpr_fpr(arr,thresh):\n",
        "  x=[]\n",
        "  for k in range(len(thresh)):\n",
        "    t=thresh[k]\n",
        "    tp=0\n",
        "    fp=0\n",
        "    tn=0\n",
        "    fn=0\n",
        "    for i in range(len(arr)):  \n",
        "      if (arr[i,0]==1 and (arr[i,2]==t or arr[i,2]>t )):\n",
        "        tp+=1\n",
        "      elif (arr[i,0]==7 and (arr[i,2]==t or arr[i,2]>t)):\n",
        "        fp+=1\n",
        "      elif (arr[i,0]==7 and arr[i,2]<t):\n",
        "        tn+=1\n",
        "      else :\n",
        "        fn+=1\n",
        "    x.append(tp/(tp+fn))\n",
        "    x.append(fp/(tn+fp))\n",
        "  return(x)\n",
        "\n",
        "\n",
        "def precision_recall(arr,thresh):\n",
        "  x=[]\n",
        "  for k in range(len(thresh)):\n",
        "    t=thresh[k]\n",
        "    tp=0\n",
        "    fp=0\n",
        "    tn=0\n",
        "    fn=0\n",
        "    for i in range(len(arr)):  \n",
        "      if (arr[i,0]==1 and (arr[i,2]==t or arr[i,2]>t )):\n",
        "        tp+=1\n",
        "      elif (arr[i,0]==7 and (arr[i,2]==t or arr[i,2]>t)):\n",
        "        fp+=1\n",
        "      elif (arr[i,0]==7 and arr[i,2]<t):\n",
        "        tn+=1\n",
        "      else :\n",
        "        fn+=1\n",
        "    x.append(tp/(tp+fp))\n",
        "    x.append(tp/(tp+fn))\n",
        "  return(x)"
      ],
      "execution_count": 0,
      "outputs": []
    },
    {
      "cell_type": "code",
      "metadata": {
        "id": "6IIbCAjxtmUF",
        "colab_type": "code",
        "outputId": "75879858-6aaf-4f3a-9e5e-83753f667fd2",
        "colab": {
          "base_uri": "https://localhost:8080/",
          "height": 295
        }
      },
      "source": [
        "c_1=np.asarray(tpr_fpr(sequence_arr_1,thresh_matrix_1))\n",
        "final_roc_mat_1=c_1.reshape((int(len(c_1)/2),2))\n",
        "\n",
        "c_2=np.asarray(tpr_fpr(sequence_arr_2,thresh_matrix_2))\n",
        "final_roc_mat_2=c_2.reshape((int(len(c_2)/2),2))\n",
        "\n",
        "c_3=np.asarray(tpr_fpr(sequence_arr_3,thresh_matrix_3))\n",
        "final_roc_mat_3=c_3.reshape((int(len(c_3)/2),2))\n",
        "\n",
        "\n",
        "import matplotlib.pyplot as plt\n",
        "plt.title('ROC Curve for SVM Training Data 1=Red, Training Data 2=Green, Training Data 3=Blue')\n",
        "plt.ylabel('True Positive Rate')\n",
        "plt.xlabel('False Positive Rate')\n",
        "plt.plot(final_roc_mat_1[:,1],final_roc_mat_1[:,0],'r')  \n",
        "plt.plot(final_roc_mat_2[:,1],final_roc_mat_2[:,0],'g')  \n",
        "plt.plot(final_roc_mat_3[:,1],final_roc_mat_3[:,0],'b')  \n",
        "plt.show()"
      ],
      "execution_count": 16,
      "outputs": [
        {
          "output_type": "display_data",
          "data": {
            "image/png": "[encoded data removed]",
            "text/plain": [
              "<Figure size 432x288 with 1 Axes>"
            ]
          },
          "metadata": {
            "tags": []
          }
        }
      ]
    },
    {
      "cell_type": "code",
      "metadata": {
        "id": "n3c7nElBxiLe",
        "colab_type": "code",
        "outputId": "746dbc0b-9eea-4eb2-b34e-4d751b3c8c1e",
        "colab": {
          "base_uri": "https://localhost:8080/",
          "height": 295
        }
      },
      "source": [
        "roc_matrix=(roc_matrix_1+roc_matrix_2+roc_matrix_3)/3\n",
        "one_mat=[]\n",
        "seven_mat=[]\n",
        "for i in range(len(roc_matrix)):\n",
        "  if (roc_matrix[i,0]==1):\n",
        "    one_mat.append(roc_matrix[i,:])\n",
        "  else:\n",
        "    seven_mat.append(roc_matrix[i,:])\n",
        "thresh_mat=np.unique(np.concatenate((np.asarray(one_mat)[:,-1],np.asarray(seven_mat)[:,-1]),axis=0))\n",
        "thresh_matrix=np.sort(thresh_mat[::-1].T).reshape((len(thresh_mat),1))[::-1]\n",
        "sequence_arr=np.concatenate((np.asarray(one_mat)[:,:],np.asarray(seven_mat)[:,:]),axis=0)\n",
        "c=np.asarray(tpr_fpr(sequence_arr,thresh_matrix))\n",
        "final_roc_mat=c.reshape((int(len(c)/2),2))\n",
        "plt.title('mean ROC Curve for SVM')\n",
        "plt.ylabel('True Positive Rate')\n",
        "plt.xlabel('False Positive Rate')\n",
        "plt.plot(final_roc_mat[:,1],final_roc_mat[:,0],'r')   \n",
        "plt.errorbar(final_roc_mat[:,1],final_roc_mat[:,0],yerr=0.02,errorevery=100) \n",
        "plt.show()"
      ],
      "execution_count": 17,
      "outputs": [
        {
          "output_type": "display_data",
          "data": {
            "image/png": "[encoded data removed]",
            "text/plain": [
              "<Figure size 432x288 with 1 Axes>"
            ]
          },
          "metadata": {
            "tags": []
          }
        }
      ]
    },
    {
      "cell_type": "code",
      "metadata": {
        "id": "WXsX1ovttnKE",
        "colab_type": "code",
        "outputId": "41033243-abe6-471d-a923-5d394944833b",
        "colab": {
          "base_uri": "https://localhost:8080/",
          "height": 295
        }
      },
      "source": [
        "d_1=np.asarray(precision_recall(sequence_arr_1,thresh_matrix_1))\n",
        "final_pr_mat_1=d_1.reshape((int(len(d_1)/2),2))\n",
        "\n",
        "d_2=np.asarray(precision_recall(sequence_arr_2,thresh_matrix_2))\n",
        "final_pr_mat_2=d_2.reshape((int(len(d_2)/2),2))\n",
        "\n",
        "d_3=np.asarray(precision_recall(sequence_arr_3,thresh_matrix_3))\n",
        "final_pr_mat_3=d_3.reshape((int(len(d_3)/2),2))\n",
        "\n",
        "import matplotlib.pyplot as plt\n",
        "plt.title('Precision Recall Curve for SVM | Training Data 1=Red, Training Data 2=Green, Training Data 3=Blue')\n",
        "plt.ylabel('Precision ')\n",
        "plt.xlabel('Recall')\n",
        "plt.plot(final_pr_mat_1[:,1],final_pr_mat_1[:,0],'r')  \n",
        "plt.plot(final_pr_mat_2[:,1],final_pr_mat_2[:,0],'g')  \n",
        "plt.plot(final_pr_mat_3[:,1],final_pr_mat_3[:,0],'b')  \n",
        "plt.show()"
      ],
      "execution_count": 18,
      "outputs": [
        {
          "output_type": "display_data",
          "data": {
            "image/png": "[encoded data removed]",
            "text/plain": [
              "<Figure size 432x288 with 1 Axes>"
            ]
          },
          "metadata": {
            "tags": []
          }
        }
      ]
    },
    {
      "cell_type": "code",
      "metadata": {
        "id": "lnBNlJwV36P3",
        "colab_type": "code",
        "outputId": "1abc7045-9f06-43e8-9cfd-7aa3f23eff27",
        "colab": {
          "base_uri": "https://localhost:8080/",
          "height": 295
        }
      },
      "source": [
        "sequence_arr=np.concatenate((np.asarray(one_mat)[:,:],np.asarray(seven_mat)[:,:]),axis=0)\n",
        "d=np.asarray(precision_recall(sequence_arr,thresh_matrix))\n",
        "final_pr_mat=d.reshape((int(len(d)/2),2))\n",
        "plt.title('mean Precision-Recall Curve for SVM')\n",
        "plt.ylabel('Precision')\n",
        "plt.xlabel('Recall')\n",
        "plt.plot(final_pr_mat[:,1],final_pr_mat[:,0],'r') \n",
        "plt.errorbar(final_pr_mat[:,1],final_pr_mat[:,0],yerr=0.02,errorevery=100)   \n",
        "plt.show()"
      ],
      "execution_count": 19,
      "outputs": [
        {
          "output_type": "display_data",
          "data": {
            "image/png": "[encoded data removed]",
            "text/plain": [
              "<Figure size 432x288 with 1 Axes>"
            ]
          },
          "metadata": {
            "tags": []
          }
        }
      ]
    },
    {
      "cell_type": "markdown",
      "metadata": {
        "id": "dWD2zt7Z6MQZ",
        "colab_type": "text"
      },
      "source": [
        "#Neural Network"
      ]
    },
    {
      "cell_type": "code",
      "metadata": {
        "id": "GlaAoMnM6Lny",
        "colab_type": "code",
        "outputId": "598186e1-b4d9-4a4c-c4cd-45bc8d5fc4e4",
        "colab": {
          "base_uri": "https://localhost:8080/",
          "height": 154
        }
      },
      "source": [
        "from sklearn.neural_network import MLPClassifier\n",
        "\n",
        "clf_1 = MLPClassifier(alpha=0.0001,hidden_layer_sizes=(128,128,128,64,1), activation='relu',max_iter=200)\n",
        "clf_1.fit(train_1[:,0:-1]/255.0,train_1[:,-1])\n",
        "y_pred_nn_1=clf_1.predict(test[:,0:-1]/255.0)\n",
        "y_pred_nn_1=y_pred_nn_1.reshape((len(y_pred_nn_1),1))\n",
        "cm_nn_1=metrics.confusion_matrix(test[:,-1].astype(int),y_pred_nn_1)\n",
        "pred_prob_nn_1=clf_1.predict_proba(test[:,0:-1]/255.0)[:,0]\n",
        "cm_nn_1"
      ],
      "execution_count": 20,
      "outputs": [
        {
          "output_type": "stream",
          "text": [
            "/usr/local/lib/python3.6/dist-packages/sklearn/neural_network/_multilayer_perceptron.py:571: ConvergenceWarning: Stochastic Optimizer: Maximum iterations (200) reached and the optimization hasn't converged yet.\n",
            "  % self.max_iter, ConvergenceWarning)\n"
          ],
          "name": "stderr"
        },
        {
          "output_type": "execute_result",
          "data": {
            "text/plain": [
              "array([[1876,    1],\n",
              "       [  16, 1277]])"
            ]
          },
          "metadata": {
            "tags": []
          },
          "execution_count": 20
        },
        {
          "output_type": "stream",
          "text": [
            "/usr/local/lib/python3.6/dist-packages/sklearn/neural_network/_multilayer_perceptron.py:571: ConvergenceWarning: Stochastic Optimizer: Maximum iterations (200) reached and the optimization hasn't converged yet.\n",
            "  % self.max_iter, ConvergenceWarning)\n"
          ],
          "name": "stderr"
        },
        {
          "output_type": "execute_result",
          "data": {
            "text/plain": [
              "array([[1876,    1],\n",
              "       [  16, 1277]])"
            ]
          },
          "metadata": {
            "tags": []
          },
          "execution_count": 20
        }
      ]
    },
    {
      "cell_type": "code",
      "metadata": {
        "id": "wqFYoTnq-F4v",
        "colab_type": "code",
        "outputId": "42de0661-2b5a-4fce-c10e-1e2caea842be",
        "colab": {
          "base_uri": "https://localhost:8080/",
          "height": 104
        }
      },
      "source": [
        "\n",
        "clf_2 = MLPClassifier(alpha=0.0001,hidden_layer_sizes=(128,128,128,64,1), activation='relu',max_iter=200)\n",
        "clf_2.fit(train_2[:,0:-1]/255.0,train_2[:,-1])\n",
        "y_pred_nn_2=clf_2.predict(test[:,0:-1]/255.0)\n",
        "y_pred_nn_2=y_pred_nn_2.reshape((len(y_pred_nn_2),1))\n",
        "cm_nn_2=metrics.confusion_matrix(test[:,-1].astype(int),y_pred_nn_2)\n",
        "pred_prob_nn_2=clf_2.predict_proba(test[:,0:-1]/255.0)[:,0]\n",
        "cm_nn_2"
      ],
      "execution_count": 28,
      "outputs": [
        {
          "output_type": "stream",
          "text": [
            "/usr/local/lib/python3.6/dist-packages/sklearn/neural_network/_multilayer_perceptron.py:571: ConvergenceWarning: Stochastic Optimizer: Maximum iterations (200) reached and the optimization hasn't converged yet.\n",
            "  % self.max_iter, ConvergenceWarning)\n"
          ],
          "name": "stderr"
        },
        {
          "output_type": "execute_result",
          "data": {
            "text/plain": [
              "array([[1876,    1],\n",
              "       [  22, 1271]])"
            ]
          },
          "metadata": {
            "tags": []
          },
          "execution_count": 28
        }
      ]
    },
    {
      "cell_type": "code",
      "metadata": {
        "id": "PA0ieYBP-F8i",
        "colab_type": "code",
        "outputId": "76e2938e-9361-46f0-f156-d3c825fa67a7",
        "colab": {
          "base_uri": "https://localhost:8080/",
          "height": 104
        }
      },
      "source": [
        "clf_3 = MLPClassifier(alpha=0.0001,hidden_layer_sizes=(128,128,128,64,1), activation='relu',max_iter=200)\n",
        "clf_3.fit(train_3[:,0:-1]/255.0,train_3[:,-1])\n",
        "y_pred_nn_3=clf_3.predict(test[:,0:-1]/255.0)\n",
        "y_pred_nn_3=y_pred_nn_3.reshape((len(y_pred_nn_3),1))\n",
        "cm_nn_3=metrics.confusion_matrix(test[:,-1].astype(int),y_pred_nn_3)\n",
        "pred_prob_nn_3=clf_3.predict_proba(test[:,0:-1]/255.0)[:,0]\n",
        "cm_nn_3"
      ],
      "execution_count": 29,
      "outputs": [
        {
          "output_type": "stream",
          "text": [
            "/usr/local/lib/python3.6/dist-packages/sklearn/neural_network/_multilayer_perceptron.py:571: ConvergenceWarning: Stochastic Optimizer: Maximum iterations (200) reached and the optimization hasn't converged yet.\n",
            "  % self.max_iter, ConvergenceWarning)\n"
          ],
          "name": "stderr"
        },
        {
          "output_type": "execute_result",
          "data": {
            "text/plain": [
              "array([[1876,    1],\n",
              "       [  17, 1276]])"
            ]
          },
          "metadata": {
            "tags": []
          },
          "execution_count": 29
        }
      ]
    },
    {
      "cell_type": "code",
      "metadata": {
        "id": "jg44bBRIlAE6",
        "colab_type": "code",
        "outputId": "223ad020-9564-466e-cda2-3b144dd23dc3",
        "colab": {
          "base_uri": "https://localhost:8080/",
          "height": 134
        }
      },
      "source": [
        "#TESTING PERFORMANCE\n",
        "#MEAN ACCURACY +- STANDARD DEVIATION\n",
        "#Neural Network\n",
        "conf_mat_nn_1=accuracy_deviation(cm_nn_1)\n",
        "conf_mat_nn_2=accuracy_deviation(cm_nn_2)\n",
        "conf_mat_nn_3=accuracy_deviation(cm_nn_3)\n",
        "mean=(conf_mat_nn_1+conf_mat_nn_2+conf_mat_nn_3)/3\n",
        "print('====================================================================================================')\n",
        "print('\\t\\t Accuracy and Deviation for Training Data 1=',conf_mat_1,'% +',conf_mat_1-mean)\n",
        "print('\\t\\t Accuracy and Deviation for Training Data  2=',conf_mat_2,'% +',conf_mat_2-mean)\n",
        "print('\\t\\t Accuracy and Deviation for Training Data  3=',conf_mat_3,'% +',conf_mat_3-mean)\n",
        "print('====================================================================================================')\n",
        "print('\\t\\t\\t\\t Accuracy for Neural Network :', np.round(mean,2),'%')\n",
        "print('====================================================================================================')"
      ],
      "execution_count": 30,
      "outputs": [
        {
          "output_type": "stream",
          "text": [
            "====================================================================================================\n",
            "\t\t Accuracy and Deviation for Training Data 1= 98.9 % + -0.48666666666665037\n",
            "\t\t Accuracy and Deviation for Training Data  2= 98.77 % + -0.61666666666666\n",
            "\t\t Accuracy and Deviation for Training Data  3= 99.05 % + -0.3366666666666589\n",
            "====================================================================================================\n",
            "\t\t\t\t Accuracy for Neural Network : 99.39 %\n",
            "====================================================================================================\n"
          ],
          "name": "stdout"
        }
      ]
    },
    {
      "cell_type": "code",
      "metadata": {
        "id": "syN4gBMz54dp",
        "colab_type": "code",
        "colab": {}
      },
      "source": [
        "#prediction Probability\n",
        "pred_prob_nn_1=clf_1.predict_proba(test[:,0:-1]/255.0)[:,0]\n",
        "pred_prob_nn_2=clf_2.predict_proba(test[:,0:-1]/255.0)[:,0]\n",
        "pred_prob_nn_3=clf_3.predict_proba(test[:,0:-1]/255.0)[:,0]\n",
        "\n",
        "roc_matrix_nn_1=np.concatenate((test[:,-1].astype(int).reshape((3170,1)),y_pred_nn_1.reshape((3170,1)),pred_prob_nn_1.reshape((3170,1))),axis=1)\n",
        "roc_matrix_nn_2=np.concatenate((test[:,-1].astype(int).reshape((3170,1)),y_pred_nn_2.reshape((3170,1)),pred_prob_nn_2.reshape((3170,1))),axis=1)\n",
        "roc_matrix_nn_3=np.concatenate((test[:,-1].astype(int).reshape((3170,1)),y_pred_nn_3.reshape((3170,1)),pred_prob_nn_3.reshape((3170,1))),axis=1)\n",
        "\n",
        "one_mat_nn_1=[]\n",
        "seven_mat_nn_1=[]\n",
        "for i in range(len(roc_matrix_nn_1)):\n",
        "  if (roc_matrix_nn_1[i,0]==1):\n",
        "    one_mat_nn_1.append(roc_matrix_nn_1[i,:])\n",
        "  else:\n",
        "    seven_mat_nn_1.append(roc_matrix_nn_1[i,:])\n",
        "\n",
        "\n",
        "one_mat_nn_2=[]\n",
        "seven_mat_nn_2=[]\n",
        "for i in range(len(roc_matrix_nn_2)):\n",
        "  if (roc_matrix_nn_2[i,0]==1):\n",
        "    one_mat_nn_2.append(roc_matrix_nn_2[i,:])\n",
        "  else:\n",
        "    seven_mat_nn_2.append(roc_matrix_nn_2[i,:])\n",
        "\n",
        "one_mat_nn_3=[]\n",
        "seven_mat_nn_3=[]\n",
        "for i in range(len(roc_matrix_nn_3)):\n",
        "  if (roc_matrix_nn_3[i,0]==1):\n",
        "    one_mat_nn_3.append(roc_matrix_nn_3[i,:])\n",
        "  else:\n",
        "    seven_mat_nn_3.append(roc_matrix_nn_3[i,:])\n",
        "\n",
        "thresh_mat_nn_1=np.unique(np.concatenate((np.asarray(one_mat_nn_1)[:,-1],np.asarray(seven_mat_nn_1)[:,-1]),axis=0))\n",
        "thresh_matrix_nn_1=np.sort(thresh_mat_nn_1[::-1].T).reshape((len(thresh_mat_nn_1),1))[::-1]\n",
        "sequence_arr_nn_1=np.concatenate((np.asarray(one_mat_nn_1)[:,:],np.asarray(seven_mat_nn_1)[:,:]),axis=0)\n",
        "\n",
        "\n",
        "thresh_mat_nn_2=np.unique(np.concatenate((np.asarray(one_mat_nn_2)[:,-1],np.asarray(seven_mat_nn_2)[:,-1]),axis=0))\n",
        "thresh_matrix_nn_2=np.sort(thresh_mat_nn_2[::-1].T).reshape((len(thresh_mat_nn_2),1))[::-1]\n",
        "sequence_arr_nn_2=np.concatenate((np.asarray(one_mat_nn_2)[:,:],np.asarray(seven_mat_nn_2)[:,:]),axis=0)\n",
        "\n",
        "\n",
        "thresh_mat_nn_3=np.unique(np.concatenate((np.asarray(one_mat_nn_3)[:,-1],np.asarray(seven_mat_nn_3)[:,-1]),axis=0))\n",
        "thresh_matrix_nn_3=np.sort(thresh_mat_nn_3[::-1].T).reshape((len(thresh_mat_nn_3),1))[::-1]\n",
        "sequence_arr_nn_3=np.concatenate((np.asarray(one_mat_nn_3)[:,:],np.asarray(seven_mat_nn_3)[:,:]),axis=0)\n"
      ],
      "execution_count": 0,
      "outputs": []
    },
    {
      "cell_type": "code",
      "metadata": {
        "id": "U6uIyHBy9-0B",
        "colab_type": "code",
        "outputId": "87c60518-9ac4-4ada-8ed5-0b0ae0136f21",
        "colab": {
          "base_uri": "https://localhost:8080/",
          "height": 573
        }
      },
      "source": [
        "c_nn_1=np.asarray(tpr_fpr(sequence_arr_nn_1,thresh_matrix_nn_1))\n",
        "final_roc_mat_nn_1=c_nn_1.reshape((int(len(c_nn_1)/2),2))\n",
        "\n",
        "c_nn_2=np.asarray(tpr_fpr(sequence_arr_nn_2,thresh_matrix_nn_2))\n",
        "final_roc_mat_nn_2=c_nn_2.reshape((int(len(c_nn_2)/2),2))\n",
        "\n",
        "c_nn_3=np.asarray(tpr_fpr(sequence_arr_nn_3,thresh_matrix_nn_3))\n",
        "final_roc_mat_nn_3=c_nn_3.reshape((int(len(c_nn_3)/2),2))\n",
        "\n",
        "\n",
        "import matplotlib.pyplot as plt\n",
        "plt.title('ROC Curve for NN Training Data 1=Red, Training Data 2=Green, Training Data 3=Blue')\n",
        "plt.ylabel('True Positive Rate')\n",
        "plt.xlabel('False Positive Rate')\n",
        "plt.plot(final_roc_mat_nn_1[:,1],final_roc_mat_nn_1[:,0],'r')  \n",
        "plt.plot(final_roc_mat_nn_2[:,1],final_roc_mat_nn_2[:,0],'g')  \n",
        "plt.plot(final_roc_mat_nn_3[:,1],final_roc_mat_nn_3[:,0],'b')  \n",
        "plt.show()"
      ],
      "execution_count": 25,
      "outputs": [
        {
          "output_type": "display_data",
          "data": {
            "image/png": "[encoded data removed]",
            "text/plain": [
              "<Figure size 432x288 with 1 Axes>"
            ]
          },
          "metadata": {
            "tags": []
          }
        },
        {
          "output_type": "display_data",
          "data": {
            "image/png": "[encoded data removed]",
            "text/plain": [
              "<Figure size 432x288 with 1 Axes>"
            ]
          },
          "metadata": {
            "tags": []
          }
        }
      ]
    },
    {
      "cell_type": "code",
      "metadata": {
        "id": "2JQ1dgG0-t1Y",
        "colab_type": "code",
        "outputId": "7e55f1e3-05bc-4c32-f1b3-bb3a6decda8c",
        "colab": {
          "base_uri": "https://localhost:8080/",
          "height": 573
        }
      },
      "source": [
        "roc_matrix_nn=(roc_matrix_nn_1+roc_matrix_nn_2+roc_matrix_nn_3)/3\n",
        "one_mat_nn=[]\n",
        "seven_mat_nn=[]\n",
        "for i in range(len(roc_matrix_nn)):\n",
        "  if (roc_matrix_nn[i,0]==1):\n",
        "    one_mat_nn.append(roc_matrix_nn[i,:])\n",
        "  else:\n",
        "    seven_mat_nn.append(roc_matrix_nn[i,:])\n",
        "thresh_mat_nn=np.unique(np.concatenate((np.asarray(one_mat_nn)[:,-1],np.asarray(seven_mat_nn)[:,-1]),axis=0))\n",
        "thresh_matrix_nn=np.sort(thresh_mat_nn[::-1].T).reshape((len(thresh_mat_nn),1))[::-1]\n",
        "sequence_arr_nn=np.concatenate((np.asarray(one_mat_nn)[:,:],np.asarray(seven_mat_nn)[:,:]),axis=0)\n",
        "c_nn=np.asarray(tpr_fpr(sequence_arr_nn,thresh_matrix_nn))\n",
        "final_roc_mat_nn=c_nn.reshape((int(len(c_nn)/2),2))\n",
        "plt.title('mean ROC Curve for NN')\n",
        "plt.ylabel('True Positive Rate')\n",
        "plt.xlabel('False Positive Rate')\n",
        "plt.plot(final_roc_mat_nn[:,1],final_roc_mat_nn[:,0],color='r') \n",
        "plt.errorbar(final_roc_mat_nn[:,1],final_roc_mat_nn[:,0],yerr=0.02,errorevery=100)  \n",
        "plt.show()"
      ],
      "execution_count": 26,
      "outputs": [
        {
          "output_type": "display_data",
          "data": {
            "image/png": "[encoded data removed]",
            "text/plain": [
              "<Figure size 432x288 with 1 Axes>"
            ]
          },
          "metadata": {
            "tags": []
          }
        },
        {
          "output_type": "display_data",
          "data": {
            "image/png": "[encoded data removed]",
            "text/plain": [
              "<Figure size 432x288 with 1 Axes>"
            ]
          },
          "metadata": {
            "tags": []
          }
        }
      ]
    },
    {
      "cell_type": "code",
      "metadata": {
        "id": "RsPtP7VDAgEY",
        "colab_type": "code",
        "outputId": "7fd2ddd8-a9bf-437a-c341-5783fc519b09",
        "colab": {
          "base_uri": "https://localhost:8080/",
          "height": 295
        }
      },
      "source": [
        "d_nn_1=np.asarray(precision_recall(sequence_arr_nn_1,thresh_matrix_nn_1))\n",
        "final_pr_mat_nn_1=d_nn_1.reshape((int(len(d_nn_1)/2),2))\n",
        "\n",
        "d_nn_2=np.asarray(precision_recall(sequence_arr_nn_2,thresh_matrix_nn_2))\n",
        "final_pr_mat_nn_2=d_nn_2.reshape((int(len(d_nn_2)/2),2))\n",
        "\n",
        "d_nn_3=np.asarray(precision_recall(sequence_arr_nn_3,thresh_matrix_nn_3))\n",
        "final_pr_mat_nn_3=d_nn_3.reshape((int(len(d_nn_3)/2),2))\n",
        "\n",
        "import matplotlib.pyplot as plt\n",
        "plt.title('Precision Recall Curve for NN | Training Data 1=Red, Training Data 2=Green, Training Data 3=Blue')\n",
        "plt.ylabel('Precision ')\n",
        "plt.xlabel('Recall')\n",
        "plt.plot(final_pr_mat_nn_1[:,1],final_pr_mat_nn_1[:,0],'r')  \n",
        "plt.plot(final_pr_mat_nn_2[:,1],final_pr_mat_nn_2[:,0],'g')  \n",
        "plt.plot(final_pr_mat_nn_3[:,1],final_pr_mat_nn_3[:,0],'b')  \n",
        "plt.show()"
      ],
      "execution_count": 31,
      "outputs": [
        {
          "output_type": "display_data",
          "data": {
            "image/png": "[encoded data removed]",
            "text/plain": [
              "<Figure size 432x288 with 1 Axes>"
            ]
          },
          "metadata": {
            "tags": []
          }
        }
      ]
    },
    {
      "cell_type": "code",
      "metadata": {
        "id": "iv8WxtBWDrbg",
        "colab_type": "code",
        "outputId": "7d7c3b76-a78d-4e17-9056-f17df0fab07c",
        "colab": {
          "base_uri": "https://localhost:8080/",
          "height": 295
        }
      },
      "source": [
        "c_nn=np.asarray(precision_recall(sequence_arr_nn,thresh_matrix_nn))\n",
        "final_pr_mat_nn=c_nn.reshape((int(len(c_nn)/2),2))\n",
        "plt.title('mean Precision-Recall Curve for SVM')\n",
        "plt.ylabel('Precision')\n",
        "plt.xlabel('Recall')\n",
        "plt.plot(final_pr_mat_nn[:,1],final_pr_mat_nn[:,0],'r')  \n",
        "plt.errorbar(final_pr_mat_nn[:,1],final_pr_mat_nn[:,0],yerr=0.02,errorevery=100)   \n",
        "plt.show()"
      ],
      "execution_count": 32,
      "outputs": [
        {
          "output_type": "display_data",
          "data": {
            "image/png": "[encoded data removed]",
            "text/plain": [
              "<Figure size 432x288 with 1 Axes>"
            ]
          },
          "metadata": {
            "tags": []
          }
        }
      ]
    },
    {
      "cell_type": "markdown",
      "metadata": {
        "id": "l9vXNY6nyEkc",
        "colab_type": "text"
      },
      "source": [
        "#Equal Error Rate\n",
        "\n"
      ]
    },
    {
      "cell_type": "code",
      "metadata": {
        "id": "UulHbsZLrASc",
        "colab_type": "code",
        "colab": {}
      },
      "source": [
        "def fpr_fnr(arr,thresh):\n",
        "  x=[]\n",
        "  for k in range(len(thresh)):\n",
        "    t=thresh[k]\n",
        "    tp=0\n",
        "    fp=0\n",
        "    tn=0\n",
        "    fn=0\n",
        "    for i in range(len(arr)):  \n",
        "      if (arr[i,0]==1 and (arr[i,2]==t or arr[i,2]>t )):\n",
        "        tp+=1\n",
        "      elif (arr[i,0]==7 and (arr[i,2]>=t)):\n",
        "        fp+=1\n",
        "      elif (arr[i,0]==7 and arr[i,2]<t):\n",
        "        tn+=1\n",
        "      else :\n",
        "        fn+=1\n",
        "    x.append(fp/(tn+fp))\n",
        "    x.append(fn/(tp+fn))\n",
        "  return(x)\n"
      ],
      "execution_count": 0,
      "outputs": []
    },
    {
      "cell_type": "markdown",
      "metadata": {
        "id": "Mwp1eHNgr-XR",
        "colab_type": "text"
      },
      "source": [
        "##SVM | Equal Error Rate"
      ]
    },
    {
      "cell_type": "code",
      "metadata": {
        "id": "ESN1vzmer8s6",
        "colab_type": "code",
        "outputId": "d3b58ae8-7480-4acb-de36-c7bae5a90ee9",
        "colab": {
          "base_uri": "https://localhost:8080/",
          "height": 295
        }
      },
      "source": [
        "EER=np.asarray(fpr_fnr(sequence_arr,thresh_matrix))\n",
        "plt.title(\"Equal Error Rate | Blue : FPR, Orange : FNR  \")\n",
        "plt.xlabel('Samples')\n",
        "plt.ylabel('Rate')\n",
        "plt.plot(EER.reshape((int(len(EER)/2),2))[:,0])\n",
        "plt.plot(EER.reshape((int(len(EER)/2),2))[:,1])\n",
        "plt.show()"
      ],
      "execution_count": 34,
      "outputs": [
        {
          "output_type": "display_data",
          "data": {
            "image/png": "[encoded data removed]",
            "text/plain": [
              "<Figure size 432x288 with 1 Axes>"
            ]
          },
          "metadata": {
            "tags": []
          }
        }
      ]
    },
    {
      "cell_type": "markdown",
      "metadata": {
        "id": "wivFmBLsyeyw",
        "colab_type": "text"
      },
      "source": [
        "##Neural Network | Equal Error Rate"
      ]
    },
    {
      "cell_type": "code",
      "metadata": {
        "id": "S5htXv6IvC18",
        "colab_type": "code",
        "outputId": "4a9c1450-d058-42c1-b05f-d5e2e2499a93",
        "colab": {
          "base_uri": "https://localhost:8080/",
          "height": 295
        }
      },
      "source": [
        "EER=np.asarray(fpr_fnr(sequence_arr_nn,thresh_matrix_nn))\n",
        "plt.title(\"Equal Error Rate | Blue : FPR, Orange : FNR  \")\n",
        "plt.xlabel('Samples')\n",
        "plt.ylabel('Rate')\n",
        "plt.plot(EER.reshape((int(len(EER)/2),2))[:,0])\n",
        "plt.plot(EER.reshape((int(len(EER)/2),2))[:,1])\n",
        "plt.show()"
      ],
      "execution_count": 35,
      "outputs": [
        {
          "output_type": "display_data",
          "data": {
            "image/png": "[encoded data removed]",
            "text/plain": [
              "<Figure size 432x288 with 1 Axes>"
            ]
          },
          "metadata": {
            "tags": []
          }
        }
      ]
    }
  ]
}